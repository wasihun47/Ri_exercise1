{
 "cells": [
  {
   "cell_type": "code",
   "execution_count": 1,
   "id": "f0d14549-7021-40d9-b732-a8b7d21d071d",
   "metadata": {},
   "outputs": [],
   "source": [
    "import numpy as np\n",
    "import matplotlib.pyplot as plt"
   ]
  },
  {
   "cell_type": "code",
   "execution_count": 2,
   "id": "579b26a4-344a-4a22-af0e-4fe0c6f3d177",
   "metadata": {},
   "outputs": [],
   "source": [
    "#from grid import GridWorld\n",
    "from grid import GridWorld\n",
    "#from grid_polcyinterat import policy_iteration\n",
    "#from grid_valueiterat import value_iteration"
   ]
  },
  {
   "cell_type": "code",
   "execution_count": 3,
   "id": "4b400a67-21be-4a48-bca8-ee7586c51335",
   "metadata": {},
   "outputs": [],
   "source": [
    "# Initialize the grid world\n",
    "n, m = 5, 5  # Grid size\n",
    "start = (0, 0)  # Starting point\n",
    "goal = (n-1, m-1)  # Goal point\n",
    "obstacles = [(1, 1), (2, 2), (3, 3)]  # Obstacle cells\n",
    "grid_world = GridWorld(n, m, start, goal, obstacles)"
   ]
  },
  {
   "cell_type": "code",
   "execution_count": 4,
   "id": "8fb0a5e7-894a-4a63-b315-1d5d0ba321b7",
   "metadata": {
    "tags": []
   },
   "outputs": [
    {
     "name": "stdout",
     "output_type": "stream",
     "text": [
      "Value Function: {(0, 0): 42.61182547515822, (0, 1): 48.45767647515822, (0, 2): 54.953066475158224, (0, 3): 62.170166475158226, (0, 4): 70.1891664751582, (1, 0): 48.45767647515822, (1, 2): 62.170166475158226, (1, 3): 70.1891664751582, (1, 4): 79.09916647515821, (2, 0): 54.953066475158224, (2, 1): 62.170166475158226, (2, 3): 79.09916647515821, (2, 4): 88.99916647515822, (3, 0): 62.170166475158226, (3, 1): 70.1891664751582, (3, 2): 79.09916647515821, (3, 4): 99.99916647515822, (4, 0): 70.1891664751582, (4, 1): 79.09916647515821, (4, 2): 88.99916647515822, (4, 3): 99.99916647515822, (4, 4): 99.99916647515822}\n"
     ]
    },
    {
     "ename": "AttributeError",
     "evalue": "module 'numpy' has no attribute 'value_state'",
     "output_type": "error",
     "traceback": [
      "\u001b[0;31m---------------------------------------------------------------------------\u001b[0m",
      "\u001b[0;31mAttributeError\u001b[0m                            Traceback (most recent call last)",
      "Cell \u001b[0;32mIn[4], line 21\u001b[0m\n\u001b[1;32m     18\u001b[0m \u001b[38;5;28mprint\u001b[39m(\u001b[38;5;124mf\u001b[39m\u001b[38;5;124m\"\u001b[39m\u001b[38;5;124mValue Function: \u001b[39m\u001b[38;5;132;01m{\u001b[39;00mV\u001b[38;5;132;01m}\u001b[39;00m\u001b[38;5;124m\"\u001b[39m)\n\u001b[1;32m     20\u001b[0m \u001b[38;5;66;03m# Plot value function\u001b[39;00m\n\u001b[0;32m---> 21\u001b[0m value_array \u001b[38;5;241m=\u001b[39m \u001b[43mnp\u001b[49m\u001b[38;5;241;43m.\u001b[39;49m\u001b[43mvalue_state\u001b[49m((grid_world\u001b[38;5;241m.\u001b[39mn, grid_world\u001b[38;5;241m.\u001b[39mm))\n\u001b[1;32m     22\u001b[0m \u001b[38;5;28;01mfor\u001b[39;00m s, v \u001b[38;5;129;01min\u001b[39;00m V\u001b[38;5;241m.\u001b[39mitems():\n\u001b[1;32m     23\u001b[0m    value_array[s] \u001b[38;5;241m=\u001b[39m v\n",
      "File \u001b[0;32m~/Library/jupyterlab-desktop/jlab_server/lib/python3.8/site-packages/numpy/__init__.py:311\u001b[0m, in \u001b[0;36m__getattr__\u001b[0;34m(attr)\u001b[0m\n\u001b[1;32m    308\u001b[0m     \u001b[38;5;28;01mfrom\u001b[39;00m \u001b[38;5;21;01m.\u001b[39;00m\u001b[38;5;21;01mtesting\u001b[39;00m \u001b[38;5;28;01mimport\u001b[39;00m Tester\n\u001b[1;32m    309\u001b[0m     \u001b[38;5;28;01mreturn\u001b[39;00m Tester\n\u001b[0;32m--> 311\u001b[0m \u001b[38;5;28;01mraise\u001b[39;00m \u001b[38;5;167;01mAttributeError\u001b[39;00m(\u001b[38;5;124m\"\u001b[39m\u001b[38;5;124mmodule \u001b[39m\u001b[38;5;132;01m{!r}\u001b[39;00m\u001b[38;5;124m has no attribute \u001b[39m\u001b[38;5;124m\"\u001b[39m\n\u001b[1;32m    312\u001b[0m                      \u001b[38;5;124m\"\u001b[39m\u001b[38;5;132;01m{!r}\u001b[39;00m\u001b[38;5;124m\"\u001b[39m\u001b[38;5;241m.\u001b[39mformat(\u001b[38;5;18m__name__\u001b[39m, attr))\n",
      "\u001b[0;31mAttributeError\u001b[0m: module 'numpy' has no attribute 'value_state'"
     ]
    }
   ],
   "source": [
    " def value_iteration(grid_world, discount_factor=0.9, theta=0.0001):\n",
    "    V = {s: 0 for s in grid_world.states}  # Initialize value function\n",
    "\n",
    "    while True:\n",
    "        delta = 0\n",
    "        for s in grid_world.states:\n",
    "            v = V[s]\n",
    "            V[s] = max([grid_world.reward(grid_world.transition(s, a)) + discount_factor * V[grid_world.transition(s, a)]\n",
    "                        for a in grid_world.actions])\n",
    "            delta = max(delta, abs(v - V[s]))\n",
    "\n",
    "        if delta < theta:\n",
    "            break\n",
    "\n",
    "    return V\n",
    "# Use value iteration\n",
    "V = value_iteration(grid_world)\n",
    "print(f\"Value Function: {V}\")\n",
    "\n",
    "# Plot value function\n",
    "value_array = np.value_state((grid_world.n, grid_world.m))\n",
    "for s, v in V.items():\n",
    "    value_array[s] = v\n",
    "\n",
    "plt.imshow(value_array, cmap='hot', interpolation='nearest')\n",
    "plt.colorbar(label='Value')\n",
    "plt.title('Value Function')\n",
    "plt.show()"
   ]
  },
  {
   "cell_type": "code",
   "execution_count": 5,
   "id": "ba4b7681-9a7a-44a5-b21b-4425178ec93f",
   "metadata": {},
   "outputs": [
    {
     "name": "stdout",
     "output_type": "stream",
     "text": [
      "Value Function: {(0, 0): 42.61182547515822, (0, 1): 48.45767647515822, (0, 2): 54.953066475158224, (0, 3): 62.170166475158226, (0, 4): 70.1891664751582, (1, 0): 48.45767647515822, (1, 2): 62.170166475158226, (1, 3): 70.1891664751582, (1, 4): 79.09916647515821, (2, 0): 54.953066475158224, (2, 1): 62.170166475158226, (2, 3): 79.09916647515821, (2, 4): 88.99916647515822, (3, 0): 62.170166475158226, (3, 1): 70.1891664751582, (3, 2): 79.09916647515821, (3, 4): 99.99916647515822, (4, 0): 70.1891664751582, (4, 1): 79.09916647515821, (4, 2): 88.99916647515822, (4, 3): 99.99916647515822, (4, 4): 99.99916647515822}\n"
     ]
    },
    {
     "data": {
      "image/png": "[encoded data removed]",
      "text/plain": [
       "<Figure size 640x480 with 2 Axes>"
      ]
     },
     "metadata": {},
     "output_type": "display_data"
    }
   ],
   "source": [
    "def value_iteration(grid_world, discount_factor=0.9, theta=0.0001):\n",
    "    V = {s: 0 for s in grid_world.states}  # Initialize value function\n",
    "\n",
    "    while True:\n",
    "        delta = 0\n",
    "        for s in grid_world.states:\n",
    "            v = V[s]\n",
    "            #V[s] = max([grid_world.reward(grid_world.transition(state, action)) + discount_factor * V[grid_world.transition(state, action)]\n",
    "                       # for a in grid_world.actions])\n",
    "            V[s] = max([grid_world.rewardss(s_prime) + discount_factor * V[s_prime]\n",
    "                        for a in grid_world.actions\n",
    "                        for s_prime in [grid_world.transitionss(s, a)]])\n",
    "            delta = max(delta, abs(v - V[s]))\n",
    "\n",
    "        if delta < theta:\n",
    "            break\n",
    "\n",
    "    return V\n",
    "\n",
    "\n",
    "\n",
    "# Use value iteration\n",
    "V = value_iteration(grid_world)\n",
    "print(f\"Value Function: {V}\")\n",
    "\n",
    "\n",
    "\n",
    "# Plot value function\n",
    "value_array = np.zeros((grid_world.n, grid_world.m))\n",
    "for s, v in V.items():\n",
    "    value_array[s] = v\n",
    "\n",
    "plt.imshow(value_array, cmap='hot', interpolation='nearest')\n",
    "plt.colorbar(label='Value')\n",
    "plt.title('Value Function')\n",
    "plt.show()\n",
    "\n",
    "\n",
    "    \n",
    "\n"
   ]
  },
  {
   "cell_type": "code",
   "execution_count": 6,
   "id": "b5eae3df-f52e-4002-aee9-4deb70c051ff",
   "metadata": {},
   "outputs": [
    {
     "name": "stdout",
     "output_type": "stream",
     "text": [
      "Policy: {(0, 0): 'up', (0, 1): 'up', (0, 2): 'up', (0, 3): 'up', (0, 4): 'up', (1, 0): 'up', (1, 2): 'up', (1, 3): 'up', (1, 4): 'up', (2, 0): 'right', (2, 1): 'up', (2, 3): 'up', (2, 4): 'up', (3, 0): 'right', (3, 1): 'up', (3, 2): 'up', (3, 4): 'down', (4, 0): 'right', (4, 1): 'up', (4, 2): 'up', (4, 3): 'right', (4, 4): 'down'}, Value Function: {(0, 0): -9.999153585021714, (0, 1): -9.999153585021714, (0, 2): -9.999153585021714, (0, 3): -9.999153585021714, (0, 4): -9.999153585021714, (1, 0): -9.999238226519543, (1, 2): -9.999238226519543, (1, 3): -9.999238226519543, (1, 4): -9.999238226519543, (2, 0): -9.999314403867588, (2, 1): -9.999153585021714, (2, 3): -9.999314403867588, (2, 4): -9.999314403867588, (3, 0): -9.99938296348083, (3, 1): -9.999238226519543, (3, 2): -9.999153585021714, (3, 4): -9.99938296348083, (4, 0): -9.999444667132748, (4, 1): -9.999314403867588, (4, 2): -9.999238226519543, (4, 3): -9.999153585021714, (4, 4): -9.999444667132748}\n"
     ]
    },
    {
     "data": {
      "image/png": "[encoded data removed]",
      "text/plain": [
       "<Figure size 640x480 with 2 Axes>"
      ]
     },
     "metadata": {},
     "output_type": "display_data"
    }
   ],
   "source": [
    "def policy_iteration(grid_world, discount_factor=0.9):\n",
    "    policy = {s: grid_world.actions[0] for s in grid_world.states}  # Initialize policy\n",
    "    V = {s: 0 for s in grid_world.states}  # Initialize value function\n",
    "\n",
    "    while True:\n",
    "        # Policy Evaluation\n",
    "        while True:\n",
    "            delta = 0\n",
    "            for s in grid_world.states:\n",
    "                v = V[s]\n",
    "                a = policy[s]\n",
    "                s_prime = grid_world.transition(s, a)\n",
    "                V[s] = grid_world.reward(s_prime) + discount_factor * V[s_prime]\n",
    "                delta = max(delta, abs(v - V[s]))\n",
    "\n",
    "            if delta < 0.0001:\n",
    "                break\n",
    "\n",
    "        # Policy Improvement\n",
    "        policy_stable = True\n",
    "        for s in grid_world.states:\n",
    "            old_action = policy[s]\n",
    "            policy[s] = max(grid_world.actions, key=lambda a: grid_world.reward(grid_world.transition(s, a)) + discount_factor * V[grid_world.transition(s, a)])\n",
    "\n",
    "            if old_action != policy[s]:\n",
    "                policy_stable = False\n",
    "\n",
    "        if policy_stable:\n",
    "            break\n",
    "\n",
    "        return policy, V\n",
    "\n",
    "    #Create a mapping from actions to integers\n",
    "action_to_int = {'up': 0, 'down': 1, 'left': 2, 'right': 3}\n",
    "\n",
    "\n",
    "# Use policy iteration\n",
    "policy, V = policy_iteration(grid_world)\n",
    "print(f\"Policy: {policy}, Value Function: {V}\")\n",
    "# Convert policy to integers\n",
    "policy_int = {s: action_to_int[a] for s, a in policy.items()}\n",
    "\n",
    "# Create an array to visualize\n",
    "policy_vis = np.zeros((grid_world.n, grid_world.m))\n",
    "for s, a in policy_int.items():\n",
    "    policy_vis[s] = a\n",
    "\n",
    "# Plot policy\n",
    "plt.imshow(policy_vis, cmap='hot', interpolation='nearest')\n",
    "plt.colorbar(ticks=[0, 1, 2, 3], format=plt.FuncFormatter(lambda val, loc: list(action_to_int.keys())[val]))\n",
    "plt.title('Policy')\n",
    "plt.show()\n"
   ]
  },
  {
   "cell_type": "code",
   "execution_count": null,
   "id": "dd9d4b5b-9ae1-4b29-a251-2b259b6525fd",
   "metadata": {},
   "outputs": [],
   "source": []
  },
  {
   "cell_type": "code",
   "execution_count": 7,
   "id": "77bfa502-d3a8-4557-bb01-fa7110e6deb6",
   "metadata": {},
   "outputs": [
    {
     "data": {
      "image/png": "[encoded data removed]",
      "text/plain": [
       "<Figure size 640x480 with 2 Axes>"
      ]
     },
     "metadata": {},
     "output_type": "display_data"
    }
   ],
   "source": [
    "def policy_evaluation(policy, grid_world, discount_factor=0.9, theta=0.0001):\n",
    "    V = {s: 0 for s in grid_world.states}  # Initialize value function\n",
    "\n",
    "    while True:\n",
    "        delta = 0\n",
    "        for s in grid_world.states:\n",
    "            v = V[s]\n",
    "            V[s] = sum([grid_world.reward(grid_world.transition(s, a)) + discount_factor * V[grid_world.transition(s, a)]\n",
    "                        for a in policy[s]])\n",
    "            delta = max(delta, abs(v - V[s]))\n",
    "\n",
    "        if delta < theta:\n",
    "            break\n",
    "\n",
    "    return V\n",
    "\n",
    "def policy_improvement(V, grid_world, discount_factor=0.9):\n",
    "    policy = {s: grid_world.actions[0] for s in grid_world.states}\n",
    "\n",
    "    for s in grid_world.states:\n",
    "        action_values = []\n",
    "        for a in grid_world.actions:\n",
    "            action_values.append(grid_world.reward(grid_world.transition(s, a)) + discount_factor * V[grid_world.transition(s, a)])\n",
    "        policy[s] = grid_world.actions[argmax(action_values)]\n",
    "\n",
    "    return policy\n",
    "\n",
    "def policy_iteration(grid_world, discount_factor=0.9, theta=0.0001):\n",
    "    policy = {s: grid_world.actions[0] for s in grid_world.states}\n",
    "\n",
    "    while True:\n",
    "        V = policy_evaluation(policy, grid_world, discount_factor, theta)\n",
    "        new_policy = policy_improvement(V, grid_world, discount_factor)\n",
    "\n",
    "        if new_policy == policy:\n",
    "            break\n",
    "\n",
    "        policy = new_policy\n",
    "\n",
    "    return policy, V\n",
    "\n",
    "# Create an array to visualize\n",
    "policy_vis = np.zeros((grid_world.n, grid_world.m))\n",
    "for s, a in policy_int.items():\n",
    "    policy_vis[s] = a\n",
    "\n",
    "# Plot policy\n",
    "plt.imshow(policy_vis, cmap='hot', interpolation='nearest')\n",
    "plt.colorbar(ticks=[0, 1, 2, 3], format=plt.FuncFormatter(lambda val, loc: list(action_to_int.keys())[val]))\n",
    "plt.title('Policy')\n",
    "plt.show()"
   ]
  },
  {
   "cell_type": "raw",
   "id": "8b48d802-c34c-4270-a811-81d7201de52d",
   "metadata": {},
   "source": [
    "qlearn"
   ]
  },
  {
   "cell_type": "code",
   "execution_count": 8,
   "id": "db94b612-fd9a-4c81-af35-39d0320d2995",
   "metadata": {},
   "outputs": [
    {
     "name": "stdout",
     "output_type": "stream",
     "text": [
      "Value Function: {((0, 0), 'up'): -1.3906558048838094, ((0, 0), 'down'): -2.2516014731775345, ((0, 0), 'left'): -1.390655809767618, ((0, 0), 'right'): -0.4340620000000006, ((0, 1), 'up'): -0.4340622064961852, ((0, 1), 'down'): -0.4340620013651955, ((0, 1), 'left'): -1.3906558038804682, ((0, 1), 'right'): 0.6288199999999993, ((0, 2), 'up'): 0.6288192184874781, ((0, 2), 'down'): 1.809799919759719, ((0, 2), 'left'): -0.4340669685239092, ((0, 2), 'right'): 1.8097999999999992, ((0, 3), 'up'): 1.809799063399066, ((0, 3), 'down'): 3.121999999999999, ((0, 3), 'left'): 0.6288199919067448, ((0, 3), 'right'): 3.1219999864286363, ((0, 4), 'up'): -1.8549375, ((0, 4), 'down'): 4.579999999999995, ((0, 4), 'left'): 0.9600061485930348, ((0, 4), 'right'): -1.8549375, ((1, 0), 'up'): -1.3906563530395333, ((1, 0), 'down'): -3.3457991689453124, ((1, 0), 'left'): -3.3657956871093755, ((1, 0), 'right'): -3.3657956871093755, ((1, 2), 'up'): -2.06953125, ((1, 2), 'down'): 0.7789604011075604, ((1, 2), 'left'): 1.3233220444726421, ((1, 2), 'right'): 3.121999999999999, ((1, 3), 'up'): 1.8097996014922844, ((1, 3), 'down'): 1.8097934901896955, ((1, 3), 'left'): 1.8097999926183146, ((1, 3), 'right'): 4.579999999999998, ((1, 4), 'up'): 3.121995948499304, ((1, 4), 'down'): 6.199999999999999, ((1, 4), 'left'): 3.1219999838992925, ((1, 4), 'right'): 4.579999999978149, ((2, 0), 'up'): -2.7667755546875004, ((2, 0), 'down'): -2.784894140625, ((2, 0), 'left'): -3.0166270390625005, ((2, 0), 'right'): -2.74925703125, ((2, 1), 'up'): -2.262190625, ((2, 1), 'down'): -1.46912109375, ((2, 1), 'left'): -2.3500671874999997, ((2, 1), 'right'): -2.262190625, ((2, 3), 'up'): 3.1219999999999986, ((2, 3), 'down'): -1.42625, ((2, 3), 'left'): -1.42625, ((2, 3), 'right'): -1.325, ((2, 4), 'up'): 4.579999668887087, ((2, 4), 'down'): 8.0, ((2, 4), 'left'): 1.8097999984361512, ((2, 4), 'right'): 6.199999992731682, ((3, 0), 'up'): -2.42014203125, ((3, 0), 'down'): -1.40249609375, ((3, 0), 'left'): -2.262190625, ((3, 0), 'right'): -2.1989375, ((3, 1), 'up'): -2.16771703125, ((3, 1), 'down'): 1.8116601562500003, ((3, 1), 'left'): -1.6906249999999998, ((3, 1), 'right'): -1.7393750000000001, ((3, 2), 'up'): -1.42625, ((3, 2), 'down'): -1.3875000000000002, ((3, 2), 'left'): -1.5786874999999998, ((3, 2), 'right'): -1.42625, ((3, 4), 'up'): 6.199992175400258, ((3, 4), 'down'): 10.0, ((3, 4), 'left'): 7.9999998807907104, ((3, 4), 'right'): 7.999999523031875, ((4, 0), 'up'): -1.8549375, ((4, 0), 'down'): -1.8549375, ((4, 0), 'left'): -2.117375, ((4, 0), 'right'): 1.6648242187500004, ((4, 1), 'up'): -1.6575000000000002, ((4, 1), 'down'): -1.42625, ((4, 1), 'left'): -1.6293124999999997, ((4, 1), 'right'): 5.48564453125, ((4, 2), 'up'): -0.975, ((4, 2), 'down'): -0.975, ((4, 2), 'left'): -0.975, ((4, 2), 'right'): 7.8251953125, ((4, 3), 'up'): 3.609375, ((4, 3), 'down'): -0.5, ((4, 3), 'left'): -0.725, ((4, 3), 'right'): 9.98046875, ((4, 4), 'up'): 0, ((4, 4), 'down'): 0, ((4, 4), 'left'): 0, ((4, 4), 'right'): 0}\n"
     ]
    },
    {
     "data": {
      "image/png": "[encoded data removed]",
      "text/plain": [
       "<Figure size 640x480 with 2 Axes>"
      ]
     },
     "metadata": {},
     "output_type": "display_data"
    }
   ],
   "source": [
    "import random\n",
    "\n",
    "class GridWorld:\n",
    "    def __init__(self, n, m, start, goal, obstacles):\n",
    "        self.n = n\n",
    "        self.m = m\n",
    "        self.start = start\n",
    "        self.goal = goal\n",
    "        self.obstacles = obstacles\n",
    "        self.states = [(i, j) for i in range(n) for j in range(m) if (i, j) not in obstacles]\n",
    "        self.actions = ['up', 'down', 'left', 'right']\n",
    "\n",
    "    def transition(self, s, a):\n",
    "        if a == 'up' and (s[0] - 1, s[1]) not in self.obstacles and s[0] > 0:\n",
    "            return (s[0] - 1, s[1])\n",
    "        elif a == 'down' and (s[0] + 1, s[1]) not in self.obstacles and s[0] < self.n - 1:\n",
    "            return (s[0] + 1, s[1])\n",
    "        elif a == 'left' and (s[0], s[1] - 1) not in self.obstacles and s[1] > 0:\n",
    "            return (s[0], s[1] - 1)\n",
    "        elif a == 'right' and (s[0], s[1] + 1) not in self.obstacles and s[1] < self.m - 1:\n",
    "            return (s[0], s[1] + 1)\n",
    "        else:\n",
    "            return s\n",
    "\n",
    "    def reward(self, s):\n",
    "        if s == self.goal:\n",
    "            return 10\n",
    "        elif s in self.obstacles:\n",
    "            return -10\n",
    "        else:\n",
    "            return -1\n",
    "\n",
    "def q_learning(grid_world, episodes, learning_rate=0.5, discount_factor=0.9, epsilon=0.1):\n",
    "    Q = {(s, a): 0 for s in grid_world.states for a in grid_world.actions}  # Initialize Q function\n",
    "\n",
    "    for episode in range(episodes):\n",
    "        s = grid_world.start\n",
    "        while s != grid_world.goal:\n",
    "            if random.uniform(0, 1) < epsilon:  # Exploration\n",
    "                a = random.choice(grid_world.actions)\n",
    "            else:  # Exploitation\n",
    "                a = max(grid_world.actions, key=lambda x: Q[(s, x)])\n",
    "\n",
    "            s_prime = grid_world.transition(s, a)\n",
    "            r = grid_world.reward(s_prime)\n",
    "\n",
    "            Q[(s, a)] = Q[(s, a)] + learning_rate * (r + discount_factor * max([Q[(s_prime, a_prime)] for a_prime in grid_world.actions]) - Q[(s, a)])\n",
    "\n",
    "            s = s_prime\n",
    "\n",
    "    return Q\n",
    "# Use value qlearn\n",
    "# Use Q-Learning\n",
    "Q = q_learning(grid_world, episodes=1000)\n",
    "print(f\"Value Function: {Q}\")\n",
    "\n",
    "\n",
    "\n",
    "\n",
    "# Initialize grid world\n",
    "grid_world = GridWorld(n=5, m=5, start=(0, 0), goal=(4, 4), obstacles=[(1, 1), (2, 2), (3, 3)])\n",
    "\n",
    "# Run Q-Learning\n",
    "Q = q_learning(grid_world, episodes=1000)\n",
    "\n",
    "# Create a grid to store the maximum Q-value for each state\n",
    "max_q_grid = np.zeros((grid_world.n, grid_world.m))\n",
    "\n",
    "for s, a in Q:\n",
    "    i, j = s\n",
    "    max_q_grid[i, j] = max(max_q_grid[i, j], Q[(s, a)])\n",
    "\n",
    "# Plot the maximum Q-value for each state\n",
    "plt.imshow(max_q_grid, cmap='hot', interpolation='nearest')\n",
    "plt.colorbar(label='Value')\n",
    "plt.title('Maximum Q-value')\n",
    "plt.show()"
   ]
  },
  {
   "cell_type": "code",
   "execution_count": null,
   "id": "601c3ec1-300c-43d4-8c74-8df8a5e55abd",
   "metadata": {},
   "outputs": [],
   "source": []
  },
  {
   "cell_type": "code",
   "execution_count": 9,
   "id": "1963b13b-6474-490e-8ba2-b5a0652f6859",
   "metadata": {},
   "outputs": [
    {
     "data": {
      "image/png": "[encoded data removed]",
      "text/plain": [
       "<Figure size 640x480 with 2 Axes>"
      ]
     },
     "metadata": {},
     "output_type": "display_data"
    }
   ],
   "source": [
    "import numpy as np\n",
    "import matplotlib.pyplot as plt\n",
    "\n",
    "class GridWorld:\n",
    "    def __init__(self, n, m, start, goal, obstacles):\n",
    "        self.n = n\n",
    "        self.m = m\n",
    "        self.start = start\n",
    "        self.goal = goal\n",
    "        self.obstacles = obstacles\n",
    "        self.states = [(i, j) for i in range(n) for j in range(m) if (i, j) not in obstacles]\n",
    "        self.actions = ['up', 'down', 'left', 'right']\n",
    "\n",
    "    def transition(self, s, a):\n",
    "        if a == 'up' and (s[0] - 1, s[1]) not in self.obstacles and s[0] > 0:\n",
    "            return (s[0] - 1, s[1])\n",
    "        elif a == 'down' and (s[0] + 1, s[1]) not in self.obstacles and s[0] < self.n - 1:\n",
    "            return (s[0] + 1, s[1])\n",
    "        elif a == 'left' and (s[0], s[1] - 1) not in self.obstacles and s[1] > 0:\n",
    "            return (s[0], s[1] - 1)\n",
    "        elif a == 'right' and (s[0], s[1] + 1) not in self.obstacles and s[1] < self.m - 1:\n",
    "            return (s[0], s[1] + 1)\n",
    "        else:\n",
    "            return s\n",
    "\n",
    "    def reward(self, s):\n",
    "        if s == self.goal:\n",
    "            return 10\n",
    "        elif s in self.obstacles:\n",
    "            return -10\n",
    "        else:\n",
    "            return -1\n",
    "\n",
    "def q_learning(grid_world, episodes, learning_rate=0.5, discount_factor=0.9, epsilon=0.1):\n",
    "    Q = {(s, a): 0 for s in grid_world.states for a in grid_world.actions}  # Initialize Q function\n",
    "\n",
    "    for episode in range(episodes):\n",
    "        s = grid_world.start\n",
    "        while s != grid_world.goal:\n",
    "            if random.uniform(0, 1) < epsilon:  # Exploration\n",
    "                a = random.choice(grid_world.actions)\n",
    "            else:  # Exploitation\n",
    "                a = max(grid_world.actions, key=lambda x: Q[(s, x)])\n",
    "\n",
    "            s_prime = grid_world.transition(s, a)\n",
    "            r = grid_world.reward(s_prime)\n",
    "\n",
    "            Q[(s, a)] = Q[(s, a)] + learning_rate * (r + discount_factor * max([Q[(s_prime, a_prime)] for a_prime in grid_world.actions]) - Q[(s, a)])\n",
    "\n",
    "            s = s_prime\n",
    "\n",
    "    return Q\n",
    "\n",
    "# Initialize grid world\n",
    "grid_world = GridWorld(n=5, m=5, start=(0, 0), goal=(4, 4), obstacles=[(1, 1), (2, 2), (3, 3)])\n",
    "\n",
    "# Run Q-Learning\n",
    "Q = q_learning(grid_world, episodes=1000)\n",
    "\n",
    "# Create a grid to store the maximum Q-value for each state\n",
    "max_q_grid = np.zeros((grid_world.n, grid_world.m))\n",
    "\n",
    "for s, a in Q:\n",
    "    i, j = s\n",
    "    max_q_grid[i, j] = max(max_q_grid[i, j], Q[(s, a)])\n",
    "\n",
    "# Plot the maximum Q-value for each state\n",
    "plt.imshow(max_q_grid, cmap='hot', interpolation='nearest')\n",
    "plt.colorbar(label='Value')\n",
    "plt.title('Maximum Q-value')\n",
    "plt.show()"
   ]
  },
  {
   "cell_type": "code",
   "execution_count": null,
   "id": "848655d1-f021-4a20-92c8-5e5ab8c7881d",
   "metadata": {},
   "outputs": [
    {
     "ename": "TypeError",
     "evalue": "Image data of dtype <U1 cannot be converted to float",
     "output_type": "error",
     "traceback": [
      "\u001b[0;31m---------------------------------------------------------------------------\u001b[0m",
      "\u001b[0;31mTypeError\u001b[0m                                 Traceback (most recent call last)",
      "Cell \u001b[0;32mIn[10], line 32\u001b[0m\n\u001b[1;32m     30\u001b[0m \u001b[38;5;66;03m# Plot the optimal action for each state\u001b[39;00m\n\u001b[1;32m     31\u001b[0m plt\u001b[38;5;241m.\u001b[39msubplot(\u001b[38;5;241m1\u001b[39m, \u001b[38;5;241m2\u001b[39m, \u001b[38;5;241m2\u001b[39m)\n\u001b[0;32m---> 32\u001b[0m \u001b[43mplt\u001b[49m\u001b[38;5;241;43m.\u001b[39;49m\u001b[43mimshow\u001b[49m\u001b[43m(\u001b[49m\u001b[43moptimal_action_grid\u001b[49m\u001b[43m,\u001b[49m\u001b[43m \u001b[49m\u001b[43mcmap\u001b[49m\u001b[38;5;241;43m=\u001b[39;49m\u001b[38;5;124;43m'\u001b[39;49m\u001b[38;5;124;43mhot\u001b[39;49m\u001b[38;5;124;43m'\u001b[39;49m\u001b[43m,\u001b[49m\u001b[43m \u001b[49m\u001b[43minterpolation\u001b[49m\u001b[38;5;241;43m=\u001b[39;49m\u001b[38;5;124;43m'\u001b[39;49m\u001b[38;5;124;43mnearest\u001b[39;49m\u001b[38;5;124;43m'\u001b[39;49m\u001b[43m)\u001b[49m\n\u001b[1;32m     33\u001b[0m plt\u001b[38;5;241m.\u001b[39mtitle(\u001b[38;5;124m'\u001b[39m\u001b[38;5;124mOptimal Action\u001b[39m\u001b[38;5;124m'\u001b[39m)\n\u001b[1;32m     35\u001b[0m plt\u001b[38;5;241m.\u001b[39mshow()\n",
      "File \u001b[0;32m~/Library/jupyterlab-desktop/jlab_server/lib/python3.8/site-packages/matplotlib/_api/deprecation.py:454\u001b[0m, in \u001b[0;36mmake_keyword_only.<locals>.wrapper\u001b[0;34m(*args, **kwargs)\u001b[0m\n\u001b[1;32m    448\u001b[0m \u001b[38;5;28;01mif\u001b[39;00m \u001b[38;5;28mlen\u001b[39m(args) \u001b[38;5;241m>\u001b[39m name_idx:\n\u001b[1;32m    449\u001b[0m     warn_deprecated(\n\u001b[1;32m    450\u001b[0m         since, message\u001b[38;5;241m=\u001b[39m\u001b[38;5;124m\"\u001b[39m\u001b[38;5;124mPassing the \u001b[39m\u001b[38;5;132;01m%(name)s\u001b[39;00m\u001b[38;5;124m \u001b[39m\u001b[38;5;132;01m%(obj_type)s\u001b[39;00m\u001b[38;5;124m \u001b[39m\u001b[38;5;124m\"\u001b[39m\n\u001b[1;32m    451\u001b[0m         \u001b[38;5;124m\"\u001b[39m\u001b[38;5;124mpositionally is deprecated since Matplotlib \u001b[39m\u001b[38;5;132;01m%(since)s\u001b[39;00m\u001b[38;5;124m; the \u001b[39m\u001b[38;5;124m\"\u001b[39m\n\u001b[1;32m    452\u001b[0m         \u001b[38;5;124m\"\u001b[39m\u001b[38;5;124mparameter will become keyword-only \u001b[39m\u001b[38;5;132;01m%(removal)s\u001b[39;00m\u001b[38;5;124m.\u001b[39m\u001b[38;5;124m\"\u001b[39m,\n\u001b[1;32m    453\u001b[0m         name\u001b[38;5;241m=\u001b[39mname, obj_type\u001b[38;5;241m=\u001b[39m\u001b[38;5;124mf\u001b[39m\u001b[38;5;124m\"\u001b[39m\u001b[38;5;124mparameter of \u001b[39m\u001b[38;5;132;01m{\u001b[39;00mfunc\u001b[38;5;241m.\u001b[39m\u001b[38;5;18m__name__\u001b[39m\u001b[38;5;132;01m}\u001b[39;00m\u001b[38;5;124m()\u001b[39m\u001b[38;5;124m\"\u001b[39m)\n\u001b[0;32m--> 454\u001b[0m \u001b[38;5;28;01mreturn\u001b[39;00m \u001b[43mfunc\u001b[49m\u001b[43m(\u001b[49m\u001b[38;5;241;43m*\u001b[39;49m\u001b[43margs\u001b[49m\u001b[43m,\u001b[49m\u001b[43m \u001b[49m\u001b[38;5;241;43m*\u001b[39;49m\u001b[38;5;241;43m*\u001b[39;49m\u001b[43mkwargs\u001b[49m\u001b[43m)\u001b[49m\n",
      "File \u001b[0;32m~/Library/jupyterlab-desktop/jlab_server/lib/python3.8/site-packages/matplotlib/pyplot.py:2623\u001b[0m, in \u001b[0;36mimshow\u001b[0;34m(X, cmap, norm, aspect, interpolation, alpha, vmin, vmax, origin, extent, interpolation_stage, filternorm, filterrad, resample, url, data, **kwargs)\u001b[0m\n\u001b[1;32m   2617\u001b[0m \u001b[38;5;129m@_copy_docstring_and_deprecators\u001b[39m(Axes\u001b[38;5;241m.\u001b[39mimshow)\n\u001b[1;32m   2618\u001b[0m \u001b[38;5;28;01mdef\u001b[39;00m \u001b[38;5;21mimshow\u001b[39m(\n\u001b[1;32m   2619\u001b[0m         X, cmap\u001b[38;5;241m=\u001b[39m\u001b[38;5;28;01mNone\u001b[39;00m, norm\u001b[38;5;241m=\u001b[39m\u001b[38;5;28;01mNone\u001b[39;00m, aspect\u001b[38;5;241m=\u001b[39m\u001b[38;5;28;01mNone\u001b[39;00m, interpolation\u001b[38;5;241m=\u001b[39m\u001b[38;5;28;01mNone\u001b[39;00m,\n\u001b[1;32m   2620\u001b[0m         alpha\u001b[38;5;241m=\u001b[39m\u001b[38;5;28;01mNone\u001b[39;00m, vmin\u001b[38;5;241m=\u001b[39m\u001b[38;5;28;01mNone\u001b[39;00m, vmax\u001b[38;5;241m=\u001b[39m\u001b[38;5;28;01mNone\u001b[39;00m, origin\u001b[38;5;241m=\u001b[39m\u001b[38;5;28;01mNone\u001b[39;00m, extent\u001b[38;5;241m=\u001b[39m\u001b[38;5;28;01mNone\u001b[39;00m, \u001b[38;5;241m*\u001b[39m,\n\u001b[1;32m   2621\u001b[0m         interpolation_stage\u001b[38;5;241m=\u001b[39m\u001b[38;5;28;01mNone\u001b[39;00m, filternorm\u001b[38;5;241m=\u001b[39m\u001b[38;5;28;01mTrue\u001b[39;00m, filterrad\u001b[38;5;241m=\u001b[39m\u001b[38;5;241m4.0\u001b[39m,\n\u001b[1;32m   2622\u001b[0m         resample\u001b[38;5;241m=\u001b[39m\u001b[38;5;28;01mNone\u001b[39;00m, url\u001b[38;5;241m=\u001b[39m\u001b[38;5;28;01mNone\u001b[39;00m, data\u001b[38;5;241m=\u001b[39m\u001b[38;5;28;01mNone\u001b[39;00m, \u001b[38;5;241m*\u001b[39m\u001b[38;5;241m*\u001b[39mkwargs):\n\u001b[0;32m-> 2623\u001b[0m     __ret \u001b[38;5;241m=\u001b[39m \u001b[43mgca\u001b[49m\u001b[43m(\u001b[49m\u001b[43m)\u001b[49m\u001b[38;5;241;43m.\u001b[39;49m\u001b[43mimshow\u001b[49m\u001b[43m(\u001b[49m\n\u001b[1;32m   2624\u001b[0m \u001b[43m        \u001b[49m\u001b[43mX\u001b[49m\u001b[43m,\u001b[49m\u001b[43m \u001b[49m\u001b[43mcmap\u001b[49m\u001b[38;5;241;43m=\u001b[39;49m\u001b[43mcmap\u001b[49m\u001b[43m,\u001b[49m\u001b[43m \u001b[49m\u001b[43mnorm\u001b[49m\u001b[38;5;241;43m=\u001b[39;49m\u001b[43mnorm\u001b[49m\u001b[43m,\u001b[49m\u001b[43m \u001b[49m\u001b[43maspect\u001b[49m\u001b[38;5;241;43m=\u001b[39;49m\u001b[43maspect\u001b[49m\u001b[43m,\u001b[49m\n\u001b[1;32m   2625\u001b[0m \u001b[43m        \u001b[49m\u001b[43minterpolation\u001b[49m\u001b[38;5;241;43m=\u001b[39;49m\u001b[43minterpolation\u001b[49m\u001b[43m,\u001b[49m\u001b[43m \u001b[49m\u001b[43malpha\u001b[49m\u001b[38;5;241;43m=\u001b[39;49m\u001b[43malpha\u001b[49m\u001b[43m,\u001b[49m\u001b[43m \u001b[49m\u001b[43mvmin\u001b[49m\u001b[38;5;241;43m=\u001b[39;49m\u001b[43mvmin\u001b[49m\u001b[43m,\u001b[49m\n\u001b[1;32m   2626\u001b[0m \u001b[43m        \u001b[49m\u001b[43mvmax\u001b[49m\u001b[38;5;241;43m=\u001b[39;49m\u001b[43mvmax\u001b[49m\u001b[43m,\u001b[49m\u001b[43m \u001b[49m\u001b[43morigin\u001b[49m\u001b[38;5;241;43m=\u001b[39;49m\u001b[43morigin\u001b[49m\u001b[43m,\u001b[49m\u001b[43m \u001b[49m\u001b[43mextent\u001b[49m\u001b[38;5;241;43m=\u001b[39;49m\u001b[43mextent\u001b[49m\u001b[43m,\u001b[49m\n\u001b[1;32m   2627\u001b[0m \u001b[43m        \u001b[49m\u001b[43minterpolation_stage\u001b[49m\u001b[38;5;241;43m=\u001b[39;49m\u001b[43minterpolation_stage\u001b[49m\u001b[43m,\u001b[49m\n\u001b[1;32m   2628\u001b[0m \u001b[43m        \u001b[49m\u001b[43mfilternorm\u001b[49m\u001b[38;5;241;43m=\u001b[39;49m\u001b[43mfilternorm\u001b[49m\u001b[43m,\u001b[49m\u001b[43m \u001b[49m\u001b[43mfilterrad\u001b[49m\u001b[38;5;241;43m=\u001b[39;49m\u001b[43mfilterrad\u001b[49m\u001b[43m,\u001b[49m\u001b[43m \u001b[49m\u001b[43mresample\u001b[49m\u001b[38;5;241;43m=\u001b[39;49m\u001b[43mresample\u001b[49m\u001b[43m,\u001b[49m\n\u001b[1;32m   2629\u001b[0m \u001b[43m        \u001b[49m\u001b[43murl\u001b[49m\u001b[38;5;241;43m=\u001b[39;49m\u001b[43murl\u001b[49m\u001b[43m,\u001b[49m\u001b[43m \u001b[49m\u001b[38;5;241;43m*\u001b[39;49m\u001b[38;5;241;43m*\u001b[39;49m\u001b[43m(\u001b[49m\u001b[43m{\u001b[49m\u001b[38;5;124;43m\"\u001b[39;49m\u001b[38;5;124;43mdata\u001b[39;49m\u001b[38;5;124;43m\"\u001b[39;49m\u001b[43m:\u001b[49m\u001b[43m \u001b[49m\u001b[43mdata\u001b[49m\u001b[43m}\u001b[49m\u001b[43m \u001b[49m\u001b[38;5;28;43;01mif\u001b[39;49;00m\u001b[43m \u001b[49m\u001b[43mdata\u001b[49m\u001b[43m \u001b[49m\u001b[38;5;129;43;01mis\u001b[39;49;00m\u001b[43m \u001b[49m\u001b[38;5;129;43;01mnot\u001b[39;49;00m\u001b[43m \u001b[49m\u001b[38;5;28;43;01mNone\u001b[39;49;00m\u001b[43m \u001b[49m\u001b[38;5;28;43;01melse\u001b[39;49;00m\u001b[43m \u001b[49m\u001b[43m{\u001b[49m\u001b[43m}\u001b[49m\u001b[43m)\u001b[49m\u001b[43m,\u001b[49m\n\u001b[1;32m   2630\u001b[0m \u001b[43m        \u001b[49m\u001b[38;5;241;43m*\u001b[39;49m\u001b[38;5;241;43m*\u001b[39;49m\u001b[43mkwargs\u001b[49m\u001b[43m)\u001b[49m\n\u001b[1;32m   2631\u001b[0m     sci(__ret)\n\u001b[1;32m   2632\u001b[0m     \u001b[38;5;28;01mreturn\u001b[39;00m __ret\n",
      "File \u001b[0;32m~/Library/jupyterlab-desktop/jlab_server/lib/python3.8/site-packages/matplotlib/_api/deprecation.py:454\u001b[0m, in \u001b[0;36mmake_keyword_only.<locals>.wrapper\u001b[0;34m(*args, **kwargs)\u001b[0m\n\u001b[1;32m    448\u001b[0m \u001b[38;5;28;01mif\u001b[39;00m \u001b[38;5;28mlen\u001b[39m(args) \u001b[38;5;241m>\u001b[39m name_idx:\n\u001b[1;32m    449\u001b[0m     warn_deprecated(\n\u001b[1;32m    450\u001b[0m         since, message\u001b[38;5;241m=\u001b[39m\u001b[38;5;124m\"\u001b[39m\u001b[38;5;124mPassing the \u001b[39m\u001b[38;5;132;01m%(name)s\u001b[39;00m\u001b[38;5;124m \u001b[39m\u001b[38;5;132;01m%(obj_type)s\u001b[39;00m\u001b[38;5;124m \u001b[39m\u001b[38;5;124m\"\u001b[39m\n\u001b[1;32m    451\u001b[0m         \u001b[38;5;124m\"\u001b[39m\u001b[38;5;124mpositionally is deprecated since Matplotlib \u001b[39m\u001b[38;5;132;01m%(since)s\u001b[39;00m\u001b[38;5;124m; the \u001b[39m\u001b[38;5;124m\"\u001b[39m\n\u001b[1;32m    452\u001b[0m         \u001b[38;5;124m\"\u001b[39m\u001b[38;5;124mparameter will become keyword-only \u001b[39m\u001b[38;5;132;01m%(removal)s\u001b[39;00m\u001b[38;5;124m.\u001b[39m\u001b[38;5;124m\"\u001b[39m,\n\u001b[1;32m    453\u001b[0m         name\u001b[38;5;241m=\u001b[39mname, obj_type\u001b[38;5;241m=\u001b[39m\u001b[38;5;124mf\u001b[39m\u001b[38;5;124m\"\u001b[39m\u001b[38;5;124mparameter of \u001b[39m\u001b[38;5;132;01m{\u001b[39;00mfunc\u001b[38;5;241m.\u001b[39m\u001b[38;5;18m__name__\u001b[39m\u001b[38;5;132;01m}\u001b[39;00m\u001b[38;5;124m()\u001b[39m\u001b[38;5;124m\"\u001b[39m)\n\u001b[0;32m--> 454\u001b[0m \u001b[38;5;28;01mreturn\u001b[39;00m \u001b[43mfunc\u001b[49m\u001b[43m(\u001b[49m\u001b[38;5;241;43m*\u001b[39;49m\u001b[43margs\u001b[49m\u001b[43m,\u001b[49m\u001b[43m \u001b[49m\u001b[38;5;241;43m*\u001b[39;49m\u001b[38;5;241;43m*\u001b[39;49m\u001b[43mkwargs\u001b[49m\u001b[43m)\u001b[49m\n",
      "File \u001b[0;32m~/Library/jupyterlab-desktop/jlab_server/lib/python3.8/site-packages/matplotlib/__init__.py:1423\u001b[0m, in \u001b[0;36m_preprocess_data.<locals>.inner\u001b[0;34m(ax, data, *args, **kwargs)\u001b[0m\n\u001b[1;32m   1420\u001b[0m \u001b[38;5;129m@functools\u001b[39m\u001b[38;5;241m.\u001b[39mwraps(func)\n\u001b[1;32m   1421\u001b[0m \u001b[38;5;28;01mdef\u001b[39;00m \u001b[38;5;21minner\u001b[39m(ax, \u001b[38;5;241m*\u001b[39margs, data\u001b[38;5;241m=\u001b[39m\u001b[38;5;28;01mNone\u001b[39;00m, \u001b[38;5;241m*\u001b[39m\u001b[38;5;241m*\u001b[39mkwargs):\n\u001b[1;32m   1422\u001b[0m     \u001b[38;5;28;01mif\u001b[39;00m data \u001b[38;5;129;01mis\u001b[39;00m \u001b[38;5;28;01mNone\u001b[39;00m:\n\u001b[0;32m-> 1423\u001b[0m         \u001b[38;5;28;01mreturn\u001b[39;00m \u001b[43mfunc\u001b[49m\u001b[43m(\u001b[49m\u001b[43max\u001b[49m\u001b[43m,\u001b[49m\u001b[43m \u001b[49m\u001b[38;5;241;43m*\u001b[39;49m\u001b[38;5;28;43mmap\u001b[39;49m\u001b[43m(\u001b[49m\u001b[43msanitize_sequence\u001b[49m\u001b[43m,\u001b[49m\u001b[43m \u001b[49m\u001b[43margs\u001b[49m\u001b[43m)\u001b[49m\u001b[43m,\u001b[49m\u001b[43m \u001b[49m\u001b[38;5;241;43m*\u001b[39;49m\u001b[38;5;241;43m*\u001b[39;49m\u001b[43mkwargs\u001b[49m\u001b[43m)\u001b[49m\n\u001b[1;32m   1425\u001b[0m     bound \u001b[38;5;241m=\u001b[39m new_sig\u001b[38;5;241m.\u001b[39mbind(ax, \u001b[38;5;241m*\u001b[39margs, \u001b[38;5;241m*\u001b[39m\u001b[38;5;241m*\u001b[39mkwargs)\n\u001b[1;32m   1426\u001b[0m     auto_label \u001b[38;5;241m=\u001b[39m (bound\u001b[38;5;241m.\u001b[39marguments\u001b[38;5;241m.\u001b[39mget(label_namer)\n\u001b[1;32m   1427\u001b[0m                   \u001b[38;5;129;01mor\u001b[39;00m bound\u001b[38;5;241m.\u001b[39mkwargs\u001b[38;5;241m.\u001b[39mget(label_namer))\n",
      "File \u001b[0;32m~/Library/jupyterlab-desktop/jlab_server/lib/python3.8/site-packages/matplotlib/axes/_axes.py:5604\u001b[0m, in \u001b[0;36mAxes.imshow\u001b[0;34m(self, X, cmap, norm, aspect, interpolation, alpha, vmin, vmax, origin, extent, interpolation_stage, filternorm, filterrad, resample, url, **kwargs)\u001b[0m\n\u001b[1;32m   5596\u001b[0m \u001b[38;5;28mself\u001b[39m\u001b[38;5;241m.\u001b[39mset_aspect(aspect)\n\u001b[1;32m   5597\u001b[0m im \u001b[38;5;241m=\u001b[39m mimage\u001b[38;5;241m.\u001b[39mAxesImage(\u001b[38;5;28mself\u001b[39m, cmap\u001b[38;5;241m=\u001b[39mcmap, norm\u001b[38;5;241m=\u001b[39mnorm,\n\u001b[1;32m   5598\u001b[0m                       interpolation\u001b[38;5;241m=\u001b[39minterpolation, origin\u001b[38;5;241m=\u001b[39morigin,\n\u001b[1;32m   5599\u001b[0m                       extent\u001b[38;5;241m=\u001b[39mextent, filternorm\u001b[38;5;241m=\u001b[39mfilternorm,\n\u001b[1;32m   5600\u001b[0m                       filterrad\u001b[38;5;241m=\u001b[39mfilterrad, resample\u001b[38;5;241m=\u001b[39mresample,\n\u001b[1;32m   5601\u001b[0m                       interpolation_stage\u001b[38;5;241m=\u001b[39minterpolation_stage,\n\u001b[1;32m   5602\u001b[0m                       \u001b[38;5;241m*\u001b[39m\u001b[38;5;241m*\u001b[39mkwargs)\n\u001b[0;32m-> 5604\u001b[0m \u001b[43mim\u001b[49m\u001b[38;5;241;43m.\u001b[39;49m\u001b[43mset_data\u001b[49m\u001b[43m(\u001b[49m\u001b[43mX\u001b[49m\u001b[43m)\u001b[49m\n\u001b[1;32m   5605\u001b[0m im\u001b[38;5;241m.\u001b[39mset_alpha(alpha)\n\u001b[1;32m   5606\u001b[0m \u001b[38;5;28;01mif\u001b[39;00m im\u001b[38;5;241m.\u001b[39mget_clip_path() \u001b[38;5;129;01mis\u001b[39;00m \u001b[38;5;28;01mNone\u001b[39;00m:\n\u001b[1;32m   5607\u001b[0m     \u001b[38;5;66;03m# image does not already have clipping set, clip to axes patch\u001b[39;00m\n",
      "File \u001b[0;32m~/Library/jupyterlab-desktop/jlab_server/lib/python3.8/site-packages/matplotlib/image.py:701\u001b[0m, in \u001b[0;36m_ImageBase.set_data\u001b[0;34m(self, A)\u001b[0m\n\u001b[1;32m    697\u001b[0m \u001b[38;5;28mself\u001b[39m\u001b[38;5;241m.\u001b[39m_A \u001b[38;5;241m=\u001b[39m cbook\u001b[38;5;241m.\u001b[39msafe_masked_invalid(A, copy\u001b[38;5;241m=\u001b[39m\u001b[38;5;28;01mTrue\u001b[39;00m)\n\u001b[1;32m    699\u001b[0m \u001b[38;5;28;01mif\u001b[39;00m (\u001b[38;5;28mself\u001b[39m\u001b[38;5;241m.\u001b[39m_A\u001b[38;5;241m.\u001b[39mdtype \u001b[38;5;241m!=\u001b[39m np\u001b[38;5;241m.\u001b[39muint8 \u001b[38;5;129;01mand\u001b[39;00m\n\u001b[1;32m    700\u001b[0m         \u001b[38;5;129;01mnot\u001b[39;00m np\u001b[38;5;241m.\u001b[39mcan_cast(\u001b[38;5;28mself\u001b[39m\u001b[38;5;241m.\u001b[39m_A\u001b[38;5;241m.\u001b[39mdtype, \u001b[38;5;28mfloat\u001b[39m, \u001b[38;5;124m\"\u001b[39m\u001b[38;5;124msame_kind\u001b[39m\u001b[38;5;124m\"\u001b[39m)):\n\u001b[0;32m--> 701\u001b[0m     \u001b[38;5;28;01mraise\u001b[39;00m \u001b[38;5;167;01mTypeError\u001b[39;00m(\u001b[38;5;124m\"\u001b[39m\u001b[38;5;124mImage data of dtype \u001b[39m\u001b[38;5;132;01m{}\u001b[39;00m\u001b[38;5;124m cannot be converted to \u001b[39m\u001b[38;5;124m\"\u001b[39m\n\u001b[1;32m    702\u001b[0m                     \u001b[38;5;124m\"\u001b[39m\u001b[38;5;124mfloat\u001b[39m\u001b[38;5;124m\"\u001b[39m\u001b[38;5;241m.\u001b[39mformat(\u001b[38;5;28mself\u001b[39m\u001b[38;5;241m.\u001b[39m_A\u001b[38;5;241m.\u001b[39mdtype))\n\u001b[1;32m    704\u001b[0m \u001b[38;5;28;01mif\u001b[39;00m \u001b[38;5;28mself\u001b[39m\u001b[38;5;241m.\u001b[39m_A\u001b[38;5;241m.\u001b[39mndim \u001b[38;5;241m==\u001b[39m \u001b[38;5;241m3\u001b[39m \u001b[38;5;129;01mand\u001b[39;00m \u001b[38;5;28mself\u001b[39m\u001b[38;5;241m.\u001b[39m_A\u001b[38;5;241m.\u001b[39mshape[\u001b[38;5;241m-\u001b[39m\u001b[38;5;241m1\u001b[39m] \u001b[38;5;241m==\u001b[39m \u001b[38;5;241m1\u001b[39m:\n\u001b[1;32m    705\u001b[0m     \u001b[38;5;66;03m# If just one dimension assume scalar and apply colormap\u001b[39;00m\n\u001b[1;32m    706\u001b[0m     \u001b[38;5;28mself\u001b[39m\u001b[38;5;241m.\u001b[39m_A \u001b[38;5;241m=\u001b[39m \u001b[38;5;28mself\u001b[39m\u001b[38;5;241m.\u001b[39m_A[:, :, \u001b[38;5;241m0\u001b[39m]\n",
      "\u001b[0;31mTypeError\u001b[0m: Image data of dtype <U1 cannot be converted to float"
     ]
    }
   ],
   "source": [
    "# Run Q-Learning\n",
    "#grid_world = GridWorld(n=5, m=5, start=(0, 0), goal=(4, 4), obstacles=[(1, 1), (2, 2), (3, 3)])\n",
    "Q = q_learning(grid_world, episodes=1000)\n",
    "\n",
    "# Create a grid to store the maximum Q-value for each state\n",
    "max_q_grid = np.zeros((grid_world.n, grid_world.m))\n",
    "\n",
    "for s, a in Q:\n",
    "    i, j = s\n",
    "    max_q_grid[i, j] = max(max_q_grid[i, j], Q[(s, a)])\n",
    "\n",
    "# Create a grid to store the optimal action for each state\n",
    "optimal_action_grid = np.full((grid_world.n, grid_world.m), ' ')\n",
    "for s in grid_world.states:\n",
    "    i, j = s\n",
    "    if s == grid_world.goal:\n",
    "        optimal_action_grid[i, j] = 'G'\n",
    "    elif s in grid_world.obstacles:\n",
    "        optimal_action_grid[i, j] = 'O'\n",
    "    else:\n",
    "        optimal_action_grid[i, j] = max(grid_world.actions, key=lambda x: Q[(s, x)])\n",
    "\n",
    "# Plot the maximum Q-value for each state\n",
    "plt.figure(figsize=(10, 5))\n",
    "plt.subplot(1, 2, 1)\n",
    "plt.imshow(max_q_grid, cmap='hot', interpolation='nearest')\n",
    "plt.title('Maximum Q-value')\n",
    "plt.colorbar()\n",
    "\n",
    "# Plot the optimal action for each state\n",
    "plt.subplot(1, 2, 2)\n",
    "plt.imshow(optimal_action_grid, cmap='hot', interpolation='nearest')\n",
    "plt.title('Optimal Action')\n",
    "\n",
    "plt.show()"
   ]
  },
  {
   "cell_type": "code",
   "execution_count": null,
   "id": "9f679006-f04b-4a02-b731-556f9c555207",
   "metadata": {},
   "outputs": [],
   "source": []
  },
  {
   "cell_type": "code",
   "execution_count": 16,
   "id": "292d19db-d4b0-4a0e-ad98-6e98a2d54b58",
   "metadata": {},
   "outputs": [
    {
     "data": {
      "image/png": "[encoded data removed]",
      "text/plain": [
       "<Figure size 640x480 with 2 Axes>"
      ]
     },
     "metadata": {},
     "output_type": "display_data"
    }
   ],
   "source": [
    "import numpy as np\n",
    "import matplotlib.pyplot as plt\n",
    "import random\n",
    "\n",
    "class GridWorld:\n",
    "    def __init__(self, n, m, start, goal, obstacles):\n",
    "        self.n = n\n",
    "        self.m = m\n",
    "        self.start = start\n",
    "        self.goal = goal\n",
    "        self.obstacles = obstacles\n",
    "        self.states = [(i, j) for i in range(n) for j in range(m) if (i, j) not in obstacles]\n",
    "        self.actions = ['up', 'down', 'left', 'right']\n",
    "\n",
    "    def transition(self, s, a):\n",
    "        if a == 'up' and (s[0] - 1, s[1]) not in self.obstacles and s[0] > 0:\n",
    "            return (s[0] - 1, s[1])\n",
    "        elif a == 'down' and (s[0] + 1, s[1]) not in self.obstacles and s[0] < self.n - 1:\n",
    "            return (s[0] + 1, s[1])\n",
    "        elif a == 'left' and (s[0], s[1] - 1) not in self.obstacles and s[1] > 0:\n",
    "            return (s[0], s[1] - 1)\n",
    "        elif a == 'right' and (s[0], s[1] + 1) not in self.obstacles and s[1] < self.m - 1:\n",
    "            return (s[0], s[1] + 1)\n",
    "        else:\n",
    "            return s\n",
    "\n",
    "    def reward(self, s):\n",
    "        if s == self.goal:\n",
    "            return 10\n",
    "        elif s in self.obstacles:\n",
    "            return -10\n",
    "        else:\n",
    "            return -1\n",
    "\n",
    "def q_learning(grid_world, episodes, learning_rate=0.5, discount_factor=0.9, epsilon=0.1):\n",
    "    Q = {(s, a): 0 for s in grid_world.states for a in grid_world.actions}  # Initialize Q function\n",
    "\n",
    "    for episode in range(episodes):\n",
    "        s = grid_world.start\n",
    "        while s != grid_world.goal:\n",
    "            # Epsilon-Greedy Policy\n",
    "            if random.uniform(0, 1) < epsilon:  # Exploration\n",
    "                a = random.choice(grid_world.actions)\n",
    "            else:  # Exploitation\n",
    "                a = max(grid_world.actions, key=lambda x: Q[(s, x)])\n",
    "\n",
    "            s_prime = grid_world.transition(s, a)\n",
    "            r = grid_world.reward(s_prime)\n",
    "\n",
    "            Q[(s, a)] = Q[(s, a)] + learning_rate * (r + discount_factor * max([Q[(s_prime, a_prime)] for a_prime in grid_world.actions]) - Q[(s, a)])\n",
    "\n",
    "            s = s_prime\n",
    "\n",
    "    return Q\n",
    "\n",
    "# Initialize grid world\n",
    "grid_world = GridWorld(n=5, m=5, start=(0, 0), goal=(4, 4), obstacles=[(1, 1), (2, 2), (3, 3)])\n",
    "\n",
    "# Run Q-Learning\n",
    "Q = q_learning(grid_world, episodes=1000)\n",
    "\n",
    "# Create a grid to store the maximum Q-value for each state\n",
    "max_q_grid = np.zeros((grid_world.n, grid_world.m))\n",
    "\n",
    "for s, a in Q:\n",
    "    i, j = s\n",
    "    max_q_grid[i, j] = max(max_q_grid[i, j], Q[(s, a)])\n",
    "\n",
    "# Plot the maximum Q-value for each state\n",
    "plt.imshow(max_q_grid, cmap='hot', interpolation='nearest')\n",
    "plt.colorbar(label='Value')\n",
    "plt.title('Maximum Q-value')\n",
    "plt.show()"
   ]
  },
  {
   "cell_type": "code",
   "execution_count": null,
   "id": "d586c8b8-eada-4499-aa45-87d356205468",
   "metadata": {},
   "outputs": [],
   "source": []
  },
  {
   "cell_type": "code",
   "execution_count": null,
   "id": "ecb7f9a4-2211-4909-87e0-a87aaee89946",
   "metadata": {},
   "outputs": [],
   "source": []
  }
 ],
 "metadata": {
  "kernelspec": {
   "display_name": "Python 3 (ipykernel)",
   "language": "python",
   "name": "python3"
  },
  "language_info": {
   "codemirror_mode": {
    "name": "ipython",
    "version": 3
   },
   "file_extension": ".py",
   "mimetype": "text/x-python",
   "name": "python",
   "nbconvert_exporter": "python",
   "pygments_lexer": "ipython3",
   "version": "3.8.15"
  }
 },
 "nbformat": 4,
 "nbformat_minor": 5
}
